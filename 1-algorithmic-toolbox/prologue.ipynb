{
 "cells": [
  {
   "cell_type": "markdown",
   "metadata": {},
   "source": [
    "# Before everything \n",
    "* This folder contains learning materials on fundamental algorithm techniques and algorithm design thinking.\n",
    "* Since this notebook follows Coursera materials, it will be a week-based study program, but you could always ignore it and go with your own pace. \n",
    "\n",
    "## If you want full enjoyment\n",
    "This materials in this folder refer to this lecture: [Algorithmic toolbox](https://www.coursera.org/learn/algorithmic-toolbox/home/welcome) on Coursera. \n",
    "\n",
    "## Else.. if you only want to solve questions with guidance\n",
    "Start right away from week1!"
   ]
  },
  {
   "cell_type": "code",
   "execution_count": null,
   "metadata": {},
   "outputs": [],
   "source": []
  }
 ],
 "metadata": {
  "kernelspec": {
   "display_name": "Python 3",
   "language": "python",
   "name": "python3"
  },
  "language_info": {
   "codemirror_mode": {
    "name": "ipython",
    "version": 3
   },
   "file_extension": ".py",
   "mimetype": "text/x-python",
   "name": "python",
   "nbconvert_exporter": "python",
   "pygments_lexer": "ipython3",
   "version": "3.4.3"
  }
 },
 "nbformat": 4,
 "nbformat_minor": 2
}
