{
 "cells": [
  {
   "cell_type": "markdown",
   "metadata": {},
   "source": [
    "# Problems\n",
    "\n",
    "## 1. Money Change Again ([related: see leetcode](https://leetcode.com/problems/coin-change/))\n",
    "As we already know, a natural greedy strategy for the change problem does not work correctly for any set of denominations. For example, if the available denominations are 1, 3, and 4, the greedy algorithm will change 6 cents using three coins (4 + 1 + 1) while it can be changed using just two coins (3 + 3). Your goal now is to apply dynamic programming for solving the Money Change Problem for denominations 1, 3, and 4.\n",
    "\n",
    "- Input: `int money`\n",
    "- Output: The minimum number of coins with denominations 1, 3, 4 that changes money\n",
    "- Constraints: $1 ≤ money ≤ 10^{3}$"
   ]
  },
  {
   "cell_type": "code",
   "execution_count": 5,
   "metadata": {},
   "outputs": [
    {
     "name": "stdout",
     "output_type": "stream",
     "text": [
      "3\n",
      "9\n",
      "2\n",
      "1\n",
      "1\n",
      "25\n",
      "25\n"
     ]
    }
   ],
   "source": [
    "\"\"\"\n",
    "This problem is equivalent to saying, 'find the minimum number of elements that can fill up to x'\n",
    "\"\"\"\n",
    "def moneyChange(money : int):\n",
    "    if money <= 2:\n",
    "        return money\n",
    "    elif money == 3:\n",
    "        return 1\n",
    "    \n",
    "    dp = [0] * money\n",
    "    dp[1] = 1\n",
    "    \n",
    "    for i in range(2,money):\n",
    "        for num in [3,4]:\n",
    "            if i - num >= 0 and dp[i-num] + 1 < dp[i-1] + 1: \n",
    "            # if adding up from some previous calculation \n",
    "            # gives less number of money changes  \n",
    "                dp[i] = dp[i-num] + 1 # then add up from that previous calc\n",
    "                break # if you've done 3, don't go to 4 (you don't have to)\n",
    "            else:\n",
    "                dp[i] = dp[i-1] + 1 # add 1 as num\n",
    "    return dp[-1]\n",
    "\n",
    "for elem in [10, 34, 2, 3, 1, 100, 99]:\n",
    "    print(moneyChange(elem))\n",
    "    "
   ]
  },
  {
   "cell_type": "markdown",
   "metadata": {},
   "source": [
    "## 2. Primitive Calculator\n",
    "You are given a primitive calculator that can perform the following three operations with the current number 𝑥: multiply 𝑥 by 2, multiply 𝑥 by 3, or add 1 to 𝑥. Your goal is given a positive integer 𝑛, find the minimum number of operations needed to obtain the number 𝑛 starting from the number 1.\n",
    "\n",
    "- Task. Given an integer 𝑛, compute the minimum number of operations needed to obtain the number 𝑛 starting from the number 1.\n",
    "- Input Format. The input consists of a single integer $1 ≤ 𝑛 ≤ 106$\n",
    "- Output Format. \n",
    "    - In the first line, output the minimum number 𝑘 of operations needed to get 𝑛 from 1. \n",
    "    - In the second line output a sequence of intermediate numbers. That is, the second line should contain positive integers $𝑎_{0}, 𝑎_{2}, . . . , 𝑎_{𝑘−1}$ such that $𝑎_{0} = 1, 𝑎_{𝑘−1} = 𝑛$ and for all $0 ≤ 𝑖 < 𝑘 − 1$, $𝑎_{𝑖+1}$ is equal to either $𝑎_{𝑖} + 1, 2𝑎_{𝑖}$, or $3𝑎_{𝑖}$. If there are many such sequences, output any one of them.\n"
   ]
  },
  {
   "cell_type": "code",
   "execution_count": 36,
   "metadata": {
    "scrolled": true
   },
   "outputs": [
    {
     "name": "stdout",
     "output_type": "stream",
     "text": [
      "([1, 2, 3], [1, 2, 4, 5])\n",
      "([3, 2, 3], [1, 3, 9, 10])\n",
      "([4, 4, 4], [1, 2, 4, 5, 15])\n",
      "([4, 5, 3], [1, 2, 6, 18])\n",
      "([5, 3, 4], [1, 2, 6, 18, 19])\n",
      "([4, 5, 4], [1, 3, 9, 10, 30])\n",
      "([5, 4, 5], [1, 3, 9, 10, 30, 31])\n",
      "([14, 15, 14], [1, 3, 9, 10, 11, 22, 66, 198, 594, 1782, 5346, 16038, 16039, 32078, 96234])\n"
     ]
    }
   ],
   "source": [
    "from typing import Tuple, List\n",
    "\n",
    "def backtrack(dp : List[int], target : int) -> int:\n",
    "    record = [target]\n",
    "    numOps = dp[-1]\n",
    "    crntIdx = len(dp) - 1\n",
    "    while target > 1:\n",
    "        if target % 3 == 0 and dp[int(target / 3)] == dp[crntIdx] - 1:\n",
    "            crntIdx = int(crntIdx / 3)\n",
    "            target = int(target / 3)\n",
    "            record.insert(0, target)\n",
    "        elif target % 2 == 0 and dp[int(target / 2)] == dp[crntIdx] - 1:\n",
    "            crntIdx = int(crntIdx / 2)\n",
    "            target = int(target / 2)\n",
    "            record.insert(0, target)\n",
    "        else:\n",
    "            crntIdx = crntIdx - 1\n",
    "            target = target - 1\n",
    "            record.insert(0, target)\n",
    "    return record \n",
    "\n",
    "def primitiveCalc(n : int) -> Tuple[int, List[int]]:\n",
    "    dp = [0, 0, 1, 1] + [0] * (n - 3) # you already have 1 from the beginning, so put 0 as the # work needed\n",
    "    num = 1\n",
    "    for i in range(3, n+1):\n",
    "        # index (value) is divisible by 3 and the accumulated number of \n",
    "        # operations would be less than just adding 1 from dp[i-1]\n",
    "        # which is a winning strategy (actually the most important part to make it NOT greedy)\n",
    "        if i % 3 == 0 and dp[int(i / 3)] < dp[i-1]: # canceled out 1's on each side\n",
    "            dp[i] = dp[int(i / 3)] + 1\n",
    "        elif i % 2 == 0 and dp[int(i / 2)] < dp[i-1]:\n",
    "            dp[i] = dp[int(i / 2)] + 1\n",
    "        else:\n",
    "            dp[i] = dp[i-1] + 1   \n",
    "    record = backtrack(dp, n)\n",
    "    return dp[-1], record\n",
    "\n",
    "for i in [5, 10, 15, 18, 19, 30, 31, 96234]:\n",
    "    print(primitiveCalc(i))\n",
    "    "
   ]
  }
 ],
 "metadata": {
  "kernelspec": {
   "display_name": "Python 3",
   "language": "python",
   "name": "python3"
  },
  "language_info": {
   "codemirror_mode": {
    "name": "ipython",
    "version": 3
   },
   "file_extension": ".py",
   "mimetype": "text/x-python",
   "name": "python",
   "nbconvert_exporter": "python",
   "pygments_lexer": "ipython3",
   "version": "3.4.3"
  }
 },
 "nbformat": 4,
 "nbformat_minor": 2
}
