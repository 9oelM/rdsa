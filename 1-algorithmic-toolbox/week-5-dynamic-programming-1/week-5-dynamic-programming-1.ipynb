{
 "cells": [
  {
   "cell_type": "markdown",
   "metadata": {},
   "source": [
    "# Problems\n",
    "\n",
    "## 1. Money Change Again ([related: see leetcode](https://leetcode.com/problems/coin-change/))\n",
    "As we already know, a natural greedy strategy for the change problem does not work correctly for any set of denominations. For example, if the available denominations are 1, 3, and 4, the greedy algorithm will change 6 cents using three coins (4 + 1 + 1) while it can be changed using just two coins (3 + 3). Your goal now is to apply dynamic programming for solving the Money Change Problem for denominations 1, 3, and 4.\n",
    "\n",
    "- Input: `int money`\n",
    "- Output: The minimum number of coins with denominations 1, 3, 4 that changes money\n",
    "- Constraints: $1 ≤ money ≤ 10^{3}$"
   ]
  },
  {
   "cell_type": "code",
   "execution_count": 5,
   "metadata": {},
   "outputs": [
    {
     "name": "stdout",
     "output_type": "stream",
     "text": [
      "3\n",
      "9\n",
      "2\n",
      "1\n",
      "1\n",
      "25\n",
      "25\n"
     ]
    }
   ],
   "source": [
    "\"\"\"\n",
    "This problem is equivalent to saying, 'find the minimum number of elements that can fill up to x'\n",
    "\"\"\"\n",
    "def moneyChange(money : int):\n",
    "    if money <= 2:\n",
    "        return money\n",
    "    elif money == 3:\n",
    "        return 1\n",
    "    \n",
    "    dp = [0] * money\n",
    "    dp[1] = 1\n",
    "    \n",
    "    for i in range(2,money):\n",
    "        for num in [3,4]:\n",
    "            if i - num >= 0 and dp[i-num] + 1 < dp[i-1] + 1: \n",
    "            # if adding up from some previous calculation \n",
    "            # gives less number of money changes  \n",
    "                dp[i] = dp[i-num] + 1 # then add up from that previous calc\n",
    "                break # if you've done 3, don't go to 4 (you don't have to)\n",
    "            else:\n",
    "                dp[i] = dp[i-1] + 1 # add 1 as num\n",
    "    return dp[-1]\n",
    "\n",
    "for elem in [10, 34, 2, 3, 1, 100, 99]:\n",
    "    print(moneyChange(elem))\n",
    "    "
   ]
  },
  {
   "cell_type": "markdown",
   "metadata": {},
   "source": [
    "## 2. Primitive Calculator\n",
    "You are given a primitive calculator that can perform the following three operations with the current number 𝑥: multiply 𝑥 by 2, multiply 𝑥 by 3, or add 1 to 𝑥. Your goal is given a positive integer 𝑛, find the minimum number of operations needed to obtain the number 𝑛 starting from the number 1.\n",
    "\n",
    "- Task. Given an integer 𝑛, compute the minimum number of operations needed to obtain the number 𝑛 starting from the number 1.\n",
    "- Input Format. The input consists of a single integer $1 ≤ 𝑛 ≤ 106$\n",
    "- Output Format. \n",
    "    - In the first line, output the minimum number 𝑘 of operations needed to get 𝑛 from 1. \n",
    "    - In the second line output a sequence of intermediate numbers. That is, the second line should contain positive integers $𝑎_{0}, 𝑎_{2}, . . . , 𝑎_{𝑘−1}$ such that $𝑎_{0} = 1, 𝑎_{𝑘−1} = 𝑛$ and for all $0 ≤ 𝑖 < 𝑘 − 1$, $𝑎_{𝑖+1}$ is equal to either $𝑎_{𝑖} + 1, 2𝑎_{𝑖}$, or $3𝑎_{𝑖}$. If there are many such sequences, output any one of them.\n"
   ]
  },
  {
   "cell_type": "code",
   "execution_count": 4,
   "metadata": {
    "scrolled": true
   },
   "outputs": [
    {
     "name": "stdout",
     "output_type": "stream",
     "text": [
      "(3, [1, 2, 4, 5])\n",
      "(3, [1, 3, 9, 10])\n",
      "(4, [1, 2, 4, 5, 15])\n",
      "(3, [1, 2, 6, 18])\n",
      "(4, [1, 2, 6, 18, 19])\n",
      "(4, [1, 3, 9, 10, 30])\n",
      "(5, [1, 3, 9, 10, 30, 31])\n",
      "(14, [1, 3, 9, 10, 11, 22, 66, 198, 594, 1782, 5346, 16038, 16039, 32078, 96234])\n"
     ]
    }
   ],
   "source": [
    "from typing import Tuple, List\n",
    "\n",
    "def backtrack(dp : List[int]) -> int:\n",
    "    crntIdx = len(dp) - 1\n",
    "    record = [crntIdx] # index also serves as a 'value'\n",
    "    while crntIdx > 1:\n",
    "        if crntIdx % 3 == 0 and dp[int(crntIdx / 3)] == dp[crntIdx] - 1:\n",
    "            crntIdx = int(crntIdx / 3)\n",
    "        elif crntIdx % 2 == 0 and dp[int(crntIdx / 2)] == dp[crntIdx] - 1:\n",
    "            crntIdx = int(crntIdx / 2)\n",
    "        else:\n",
    "            crntIdx = crntIdx - 1\n",
    "        record.insert(0, crntIdx)\n",
    "    return record \n",
    "\n",
    "def primitiveCalc(n : int) -> Tuple[int, List[int]]:\n",
    "    dp = [0, 0, 1, 1] + [0] * (n - 3) # you already have 1 from the beginning, so put 0 as the # work needed\n",
    "    num = 1\n",
    "    for i in range(3, n+1):\n",
    "        # index (value) is divisible by 3 and the accumulated number of \n",
    "        # operations would be less than just adding 1 from dp[i-1]\n",
    "        # which is a winning strategy (actually the most important part to make it NOT greedy)\n",
    "        if i % 3 == 0 and dp[int(i / 3)] < dp[i-1]: # canceled out 1's on each side\n",
    "            dp[i] = dp[int(i / 3)] + 1\n",
    "        elif i % 2 == 0 and dp[int(i / 2)] < dp[i-1]:\n",
    "            dp[i] = dp[int(i / 2)] + 1\n",
    "        else:\n",
    "            dp[i] = dp[i-1] + 1   \n",
    "    record = backtrack(dp)\n",
    "    return dp[-1], record\n",
    "\n",
    "for i in [5, 10, 15, 18, 19, 30, 31, 96234]:\n",
    "    print(primitiveCalc(i))\n",
    "    "
   ]
  },
  {
   "cell_type": "markdown",
   "metadata": {},
   "source": [
    "## 3. Edit distance\n",
    "The edit distance between two strings is the minimum number of operations (insertions, deletions, and substitutions of symbols) to transform one string into another. It is a measure of similarity of two strings.\n",
    "Edit distance has applications, for example, in computational biology, natural language processing, and spell checking. Your goal in this problem is to compute the edit distance between two strings.\n",
    "\n",
    "- Task. The goal of this problem is to implement the algorithm for computing the edit distance between two strings.\n",
    "- Input Format. Each of the two lines of the input contains a string consisting of lower case latin letters.\n",
    "- Constraints. The length of both strings is at least 1 and at most 100.\n",
    "- Output Format. Output the edit distance between the given two strings."
   ]
  },
  {
   "cell_type": "code",
   "execution_count": 112,
   "metadata": {},
   "outputs": [
    {
     "name": "stdout",
     "output_type": "stream",
     "text": [
      "DISTANCE EDITING\n",
      "5\n",
      "[[0, 1, 2, 3, 4, 5, 6, 7, 8], [1, 1, 2, 3, 4, 5, 6, 7, 7], [2, 1, 2, 3, 4, 5, 6, 7, 8], [3, 2, 1, 2, 3, 4, 5, 6, 7], [4, 3, 2, 2, 2, 3, 4, 5, 6], [5, 4, 3, 3, 3, 3, 4, 5, 6], [6, 5, 4, 4, 4, 4, 3, 4, 5], [7, 6, 5, 5, 5, 5, 4, 4, 5]]\n",
      "------------\n",
      "TEST TEST\n",
      "0\n",
      "[[0, 1, 2, 3, 4], [1, 0, 1, 2, 3], [2, 1, 0, 1, 2], [3, 2, 1, 0, 1], [4, 3, 2, 1, 0]]\n",
      "------------\n",
      "TESTING TESTQQQ\n",
      "3\n",
      "[[0, 1, 2, 3, 4, 5, 6, 7], [1, 0, 1, 2, 3, 4, 5, 6], [2, 1, 0, 1, 2, 3, 4, 5], [3, 2, 1, 0, 1, 2, 3, 4], [4, 3, 2, 1, 0, 1, 2, 3], [5, 4, 3, 2, 1, 1, 2, 3], [6, 5, 4, 3, 2, 2, 2, 3], [7, 6, 5, 4, 3, 3, 3, 3]]\n",
      "------------\n",
      "ABCD EFGH\n",
      "4\n",
      "[[0, 1, 2, 3, 4], [1, 1, 2, 3, 4], [2, 2, 2, 3, 4], [3, 3, 3, 3, 4], [4, 4, 4, 4, 4]]\n",
      "------------\n"
     ]
    }
   ],
   "source": [
    "from typing import Tuple, List\n",
    "\n",
    "def editDistance(A : str, B : str) -> Tuple[int, List[int]]:\n",
    "    # horizontal: A\n",
    "    # vertical: B\n",
    "    dp = [list(range(len(A)+1))] + [[0]*((len(A))+1)]*(len(B))\n",
    "    for i in range(1, len(dp)):\n",
    "        dp[i] = [i] + [0]*(len(A))\n",
    "        \n",
    "    for j in range(1,len(A)+1):\n",
    "        for i in range(1, len(B)+1):\n",
    "            comp = []\n",
    "            if j - 1 >= 0:\n",
    "                comp.append(dp[i][j-1]) # insertion\n",
    "            if i - 1 >= 0:\n",
    "                comp.append(dp[i-1][j]) # deletion\n",
    "            if i - 1 >= 0 and j - 1 >= 0:\n",
    "                comp.append(dp[i-1][j-1]) # mismatch\n",
    "                if A[j-1] == B[i-1]: # match\n",
    "                    comp.append(dp[i-1][j-1]-1)\n",
    "            dp[i][j] = min(comp) + 1 # we canceled out 1's in above comparisons             \n",
    "    return dp[-1][-1], dp\n",
    "\n",
    "for first, second in [(\"DISTANCE\", \"EDITING\"), (\"TEST\", \"TEST\"), (\"TESTING\", \"TESTQQQ\"), (\"ABCD\", \"EFGH\")]:\n",
    "    print (first, second)\n",
    "    ans, dp = editDistance(first, second)\n",
    "    print(ans)\n",
    "    print(dp, end=\"\\n------------\\n\")"
   ]
  },
  {
   "cell_type": "markdown",
   "metadata": {},
   "source": [
    "## Notes\n",
    "The answer of the test case is the same as the one from the lecture:\n",
    "![answer](./1.PNG)\n",
    "\n",
    "I don't feel like using `i` and `j` together because they are quite... similar. I would rather use `i` and `k` if I were to use indices.\n",
    "\n",
    "Comments! Should make use of comments to explain what I'm doing, for my own reference.\n",
    "\n",
    "Indices. It's always confusing to think about 0-based vs 1-based indexing. I've gotta make sure I know what I'm doing."
   ]
  },
  {
   "cell_type": "markdown",
   "metadata": {},
   "source": [
    "##  4. Longest Common Subsequence of Two Sequences\n",
    "Compute the length of a longest common subsequence of 2 sequences.\n",
    "- Task. Given two sequences 𝐴 = (𝑎1, 𝑎2, . . . , 𝑎𝑛) and 𝐵 = (𝑏1, 𝑏2, . . . , 𝑏𝑚), find the length of their longest common subsequence, i.e., the largest non-negative integer 𝑝 such that there exist indices 1 ≤ 𝑖1 < 𝑖2 < · · · < 𝑖𝑝 ≤ 𝑛 and 1 ≤ 𝑗1 < 𝑗2 < · · · < 𝑗𝑝 ≤ 𝑚, such that 𝑎𝑖1 = 𝑏𝑗1, . . . , 𝑎𝑖𝑝 = 𝑏𝑗𝑝.\n",
    "- Input Format. First line: 𝑛. Second line: 𝑎1, 𝑎2, . . . , 𝑎𝑛. Third line: 𝑚. Fourth line: 𝑏1, 𝑏2, . . . , 𝑏𝑚.\n",
    "- Constraints. 1 ≤ 𝑛, 𝑚 ≤ 100; −109 < 𝑎𝑖, 𝑏𝑖 < 109.\n",
    "- Output Format. Output 𝑝 (the length of the longest common subsequence)."
   ]
  },
  {
   "cell_type": "code",
   "execution_count": 15,
   "metadata": {},
   "outputs": [
    {
     "name": "stdout",
     "output_type": "stream",
     "text": [
      "(1, [[1, 1, 1], [1, 1, 1], [1, 1, 1]])\n",
      "(2, [[0, 1, 2, 2], [0, 1, 2, 2], [0, 1, 2, 2], [0, 1, 2, 2]])\n",
      "(6, [[1, 2, 3, 4, 5, 6], [1, 2, 3, 4, 5, 6], [1, 2, 3, 4, 5, 6], [1, 2, 3, 4, 5, 6], [1, 2, 3, 4, 5, 6], [1, 2, 3, 4, 5, 6], [1, 2, 3, 4, 5, 6], [1, 2, 3, 4, 5, 6], [1, 2, 3, 4, 5, 6], [1, 2, 3, 4, 5, 6], [1, 2, 3, 4, 5, 6], [1, 2, 3, 4, 5, 6], [1, 2, 3, 4, 5, 6], [1, 2, 3, 4, 5, 6], [1, 2, 3, 4, 5, 6]])\n",
      "(6, [[3, 4, 4, 4, 5, 6, 6, 6, 6, 6], [3, 4, 4, 4, 5, 6, 6, 6, 6, 6], [3, 4, 4, 4, 5, 6, 6, 6, 6, 6], [3, 4, 4, 4, 5, 6, 6, 6, 6, 6], [3, 4, 4, 4, 5, 6, 6, 6, 6, 6], [3, 4, 4, 4, 5, 6, 6, 6, 6, 6], [3, 4, 4, 4, 5, 6, 6, 6, 6, 6], [3, 4, 4, 4, 5, 6, 6, 6, 6, 6], [3, 4, 4, 4, 5, 6, 6, 6, 6, 6], [3, 4, 4, 4, 5, 6, 6, 6, 6, 6], [3, 4, 4, 4, 5, 6, 6, 6, 6, 6]])\n"
     ]
    }
   ],
   "source": [
    "from typing import List\n",
    "import re\n",
    "\n",
    "def init(A : str, B : str) -> List[List[int]]:\n",
    "    # horizontal: A\n",
    "    # vertical: B\n",
    "    ALength,BHeight = A.count(' ') + 1, B.count(' ') + 1\n",
    "    return [[0] * BHeight] * ALength, ALength, BHeight\n",
    "\n",
    "def LGS(A: str, B : str) -> int:\n",
    "    dp, ALength, BHeight = init(A, B)\n",
    "    A = A.split(\" \")\n",
    "    B = B.split(\" \")\n",
    "    for AIndex in range(ALength):\n",
    "        for BIndex in range(BHeight):\n",
    "            comp = []\n",
    "            if AIndex - 1 >= 0:\n",
    "                comp.append(dp[AIndex-1][BIndex])\n",
    "            if BIndex - 1 >= 0:\n",
    "                comp.append(dp[AIndex][BIndex - 1])\n",
    "            if AIndex - 1 >= 0 and BIndex - 1 >= 0:\n",
    "                comp.append(dp[AIndex-1][BIndex-1])    \n",
    "            if comp:\n",
    "                dp[AIndex][BIndex] = max(comp)\n",
    "            if A[AIndex] == B[BIndex]:\n",
    "                dp[AIndex][BIndex] += 1\n",
    "    return dp[-1][-1], dp\n",
    "\n",
    "for first, second in [('1 2 3', '3 4 5'),('2 7 8 3', '5 2 8 7'),('1 2 3 4 5 6 7 8 9 10 11 12 13 14 15', '1 3 5 9 10 15'), ('-3 2 9 3 7 3 3 2 -1 -5 -11', '3 3 4 5 -1 -5 2 -10 5 5')]:\n",
    "    print(LGS(first, second))\n",
    "    "
   ]
  },
  {
   "cell_type": "markdown",
   "metadata": {},
   "source": [
    "## Notes\n",
    "- what's essentially different from the previous problem (edit distance) is just that **there's only a 'MATCH' case.**\n",
    "- this question was actually a bit annoying because I again got confused between the **indices (`A` and `B`)**. Need to carefully look and take down notes on what I'm doing. I have the right idea, but I just have a little problem implementing it. "
   ]
  },
  {
   "cell_type": "markdown",
   "metadata": {},
   "source": [
    "## 5.  Longest Common Subsequence of Three Sequences\n",
    "Compute the length of a longest common subsequence of three sequences.\n",
    "![Explained](./2.PNG)"
   ]
  },
  {
   "cell_type": "code",
   "execution_count": 83,
   "metadata": {
    "scrolled": true
   },
   "outputs": [
    {
     "ename": "AttributeError",
     "evalue": "'tuple' object has no attribute 'split'",
     "output_type": "error",
     "traceback": [
      "\u001b[0;31m---------------------------------------------------------------------------\u001b[0m",
      "\u001b[0;31mAttributeError\u001b[0m                            Traceback (most recent call last)",
      "\u001b[0;32m<ipython-input-83-f951144ea146>\u001b[0m in \u001b[0;36m<module>\u001b[0;34m()\u001b[0m\n\u001b[1;32m     33\u001b[0m \u001b[0;34m\u001b[0m\u001b[0m\n\u001b[1;32m     34\u001b[0m \u001b[0;32mfor\u001b[0m \u001b[0mfirst\u001b[0m\u001b[0;34m,\u001b[0m \u001b[0msecond\u001b[0m\u001b[0;34m,\u001b[0m \u001b[0mthird\u001b[0m \u001b[0;32min\u001b[0m \u001b[0;34m[\u001b[0m\u001b[0;34m(\u001b[0m\u001b[0;34m'1 2 3 4'\u001b[0m\u001b[0;34m,\u001b[0m \u001b[0;34m'2 3'\u001b[0m\u001b[0;34m,\u001b[0m \u001b[0;34m'3 4 5'\u001b[0m\u001b[0;34m)\u001b[0m\u001b[0;34m]\u001b[0m\u001b[0;34m:\u001b[0m\u001b[0;34m\u001b[0m\u001b[0m\n\u001b[0;32m---> 35\u001b[0;31m     \u001b[0mprint\u001b[0m\u001b[0;34m(\u001b[0m\u001b[0mLGS\u001b[0m\u001b[0;34m(\u001b[0m\u001b[0mfirst\u001b[0m\u001b[0;34m,\u001b[0m \u001b[0msecond\u001b[0m\u001b[0;34m,\u001b[0m \u001b[0mthird\u001b[0m\u001b[0;34m)\u001b[0m\u001b[0;34m)\u001b[0m\u001b[0;34m\u001b[0m\u001b[0m\n\u001b[0m\u001b[1;32m     36\u001b[0m \u001b[0;34m\u001b[0m\u001b[0m\n\u001b[1;32m     37\u001b[0m \u001b[0mprint\u001b[0m\u001b[0;34m(\u001b[0m\u001b[0mcompareManyStringsEquality\u001b[0m\u001b[0;34m(\u001b[0m\u001b[0;34m'1 2 3 4'\u001b[0m\u001b[0;34m,\u001b[0m \u001b[0;34m'1 2 3 4 5'\u001b[0m\u001b[0;34m,\u001b[0m \u001b[0;34m'1 2 3 4 5'\u001b[0m\u001b[0;34m)\u001b[0m\u001b[0;34m)\u001b[0m\u001b[0;34m\u001b[0m\u001b[0m\n",
      "\u001b[0;32m<ipython-input-83-f951144ea146>\u001b[0m in \u001b[0;36mLGS\u001b[0;34m(*args)\u001b[0m\n\u001b[1;32m     22\u001b[0m \u001b[0;34m\u001b[0m\u001b[0m\n\u001b[1;32m     23\u001b[0m \u001b[0;32mdef\u001b[0m \u001b[0mLGS\u001b[0m\u001b[0;34m(\u001b[0m\u001b[0;34m*\u001b[0m\u001b[0margs\u001b[0m \u001b[0;34m:\u001b[0m \u001b[0mList\u001b[0m\u001b[0;34m[\u001b[0m\u001b[0mstr\u001b[0m\u001b[0;34m]\u001b[0m\u001b[0;34m)\u001b[0m \u001b[0;34m->\u001b[0m \u001b[0mint\u001b[0m\u001b[0;34m:\u001b[0m\u001b[0;34m\u001b[0m\u001b[0m\n\u001b[0;32m---> 24\u001b[0;31m     \u001b[0marrLengths\u001b[0m\u001b[0;34m,\u001b[0m \u001b[0mstrings\u001b[0m \u001b[0;34m=\u001b[0m \u001b[0minit\u001b[0m\u001b[0;34m(\u001b[0m\u001b[0margs\u001b[0m\u001b[0;34m)\u001b[0m\u001b[0;34m\u001b[0m\u001b[0m\n\u001b[0m\u001b[1;32m     25\u001b[0m     \u001b[0marr\u001b[0m\u001b[0;34m,\u001b[0m \u001b[0mlengths\u001b[0m \u001b[0;34m=\u001b[0m \u001b[0marrLengths\u001b[0m\u001b[0;34m\u001b[0m\u001b[0m\n\u001b[1;32m     26\u001b[0m     \u001b[0;32mfor\u001b[0m \u001b[0mL\u001b[0m \u001b[0;32min\u001b[0m \u001b[0mlengths\u001b[0m\u001b[0;34m:\u001b[0m\u001b[0;34m\u001b[0m\u001b[0m\n",
      "\u001b[0;32m<ipython-input-83-f951144ea146>\u001b[0m in \u001b[0;36minit\u001b[0;34m(*args)\u001b[0m\n\u001b[1;32m     12\u001b[0m \u001b[0;34m\u001b[0m\u001b[0m\n\u001b[1;32m     13\u001b[0m \u001b[0;32mdef\u001b[0m \u001b[0minit\u001b[0m\u001b[0;34m(\u001b[0m\u001b[0;34m*\u001b[0m\u001b[0margs\u001b[0m \u001b[0;34m:\u001b[0m \u001b[0mList\u001b[0m\u001b[0;34m[\u001b[0m\u001b[0mstr\u001b[0m\u001b[0;34m]\u001b[0m\u001b[0;34m)\u001b[0m \u001b[0;34m->\u001b[0m \u001b[0mTuple\u001b[0m\u001b[0;34m[\u001b[0m\u001b[0mTuple\u001b[0m\u001b[0;34m[\u001b[0m\u001b[0mList\u001b[0m\u001b[0;34m[\u001b[0m\u001b[0mint\u001b[0m\u001b[0;34m]\u001b[0m\u001b[0;34m,\u001b[0m \u001b[0mList\u001b[0m\u001b[0;34m[\u001b[0m\u001b[0mint\u001b[0m\u001b[0;34m]\u001b[0m\u001b[0;34m]\u001b[0m\u001b[0;34m,\u001b[0m \u001b[0mList\u001b[0m\u001b[0;34m[\u001b[0m\u001b[0mint\u001b[0m\u001b[0;34m]\u001b[0m\u001b[0;34m]\u001b[0m\u001b[0;34m:\u001b[0m\u001b[0;34m\u001b[0m\u001b[0m\n\u001b[0;32m---> 14\u001b[0;31m     \u001b[0;32mreturn\u001b[0m \u001b[0mcreateXDimentionalArray\u001b[0m\u001b[0;34m(\u001b[0m\u001b[0margs\u001b[0m\u001b[0;34m)\u001b[0m\u001b[0;34m,\u001b[0m \u001b[0;34m[\u001b[0m\u001b[0ms\u001b[0m\u001b[0;34m.\u001b[0m\u001b[0msplit\u001b[0m\u001b[0;34m(\u001b[0m\u001b[0;34m\" \"\u001b[0m\u001b[0;34m)\u001b[0m \u001b[0;32mfor\u001b[0m \u001b[0ms\u001b[0m \u001b[0;32min\u001b[0m \u001b[0mlist\u001b[0m\u001b[0;34m(\u001b[0m\u001b[0margs\u001b[0m\u001b[0;34m)\u001b[0m\u001b[0;34m]\u001b[0m\u001b[0;34m\u001b[0m\u001b[0m\n\u001b[0m\u001b[1;32m     15\u001b[0m \u001b[0;34m\u001b[0m\u001b[0m\n\u001b[1;32m     16\u001b[0m \u001b[0;32mdef\u001b[0m \u001b[0mareStringsEqual\u001b[0m\u001b[0;34m(\u001b[0m\u001b[0;34m*\u001b[0m\u001b[0margs\u001b[0m\u001b[0;34m)\u001b[0m \u001b[0;34m->\u001b[0m \u001b[0mbool\u001b[0m\u001b[0;34m:\u001b[0m\u001b[0;34m\u001b[0m\u001b[0m\n",
      "\u001b[0;32m<ipython-input-83-f951144ea146>\u001b[0m in \u001b[0;36m<listcomp>\u001b[0;34m(.0)\u001b[0m\n\u001b[1;32m     12\u001b[0m \u001b[0;34m\u001b[0m\u001b[0m\n\u001b[1;32m     13\u001b[0m \u001b[0;32mdef\u001b[0m \u001b[0minit\u001b[0m\u001b[0;34m(\u001b[0m\u001b[0;34m*\u001b[0m\u001b[0margs\u001b[0m \u001b[0;34m:\u001b[0m \u001b[0mList\u001b[0m\u001b[0;34m[\u001b[0m\u001b[0mstr\u001b[0m\u001b[0;34m]\u001b[0m\u001b[0;34m)\u001b[0m \u001b[0;34m->\u001b[0m \u001b[0mTuple\u001b[0m\u001b[0;34m[\u001b[0m\u001b[0mTuple\u001b[0m\u001b[0;34m[\u001b[0m\u001b[0mList\u001b[0m\u001b[0;34m[\u001b[0m\u001b[0mint\u001b[0m\u001b[0;34m]\u001b[0m\u001b[0;34m,\u001b[0m \u001b[0mList\u001b[0m\u001b[0;34m[\u001b[0m\u001b[0mint\u001b[0m\u001b[0;34m]\u001b[0m\u001b[0;34m]\u001b[0m\u001b[0;34m,\u001b[0m \u001b[0mList\u001b[0m\u001b[0;34m[\u001b[0m\u001b[0mint\u001b[0m\u001b[0;34m]\u001b[0m\u001b[0;34m]\u001b[0m\u001b[0;34m:\u001b[0m\u001b[0;34m\u001b[0m\u001b[0m\n\u001b[0;32m---> 14\u001b[0;31m     \u001b[0;32mreturn\u001b[0m \u001b[0mcreateXDimentionalArray\u001b[0m\u001b[0;34m(\u001b[0m\u001b[0margs\u001b[0m\u001b[0;34m)\u001b[0m\u001b[0;34m,\u001b[0m \u001b[0;34m[\u001b[0m\u001b[0ms\u001b[0m\u001b[0;34m.\u001b[0m\u001b[0msplit\u001b[0m\u001b[0;34m(\u001b[0m\u001b[0;34m\" \"\u001b[0m\u001b[0;34m)\u001b[0m \u001b[0;32mfor\u001b[0m \u001b[0ms\u001b[0m \u001b[0;32min\u001b[0m \u001b[0mlist\u001b[0m\u001b[0;34m(\u001b[0m\u001b[0margs\u001b[0m\u001b[0;34m)\u001b[0m\u001b[0;34m]\u001b[0m\u001b[0;34m\u001b[0m\u001b[0m\n\u001b[0m\u001b[1;32m     15\u001b[0m \u001b[0;34m\u001b[0m\u001b[0m\n\u001b[1;32m     16\u001b[0m \u001b[0;32mdef\u001b[0m \u001b[0mareStringsEqual\u001b[0m\u001b[0;34m(\u001b[0m\u001b[0;34m*\u001b[0m\u001b[0margs\u001b[0m\u001b[0;34m)\u001b[0m \u001b[0;34m->\u001b[0m \u001b[0mbool\u001b[0m\u001b[0;34m:\u001b[0m\u001b[0;34m\u001b[0m\u001b[0m\n",
      "\u001b[0;31mAttributeError\u001b[0m: 'tuple' object has no attribute 'split'"
     ]
    }
   ],
   "source": [
    "from typing import List, Tuple, Callable\n",
    "\n",
    "def createXDimentionalArray(*args):\n",
    "    \"\"\"\n",
    "    creates an array of dimension x based on len(args).\n",
    "    \"\"\"\n",
    "    lengths = [s.count(' ') + 1 for s in args]\n",
    "    arr = lengths.pop() * [0]\n",
    "    while(lengths):\n",
    "        arr = [arr] * lengths.pop() \n",
    "    return arr, lengths\n",
    "\n",
    "def init(*args : List[str]) -> Tuple[Tuple[List[int], List[int]], List[int]]:\n",
    "    return createXDimentionalArray(args), [s.split(\" \") for s in args]\n",
    "    \n",
    "def areStringsEqual(*args) -> bool:\n",
    "    eq = True\n",
    "    while(len(args)>2):\n",
    "        eq = args[0] == args[1] and eq\n",
    "        args = args[1:]\n",
    "    return args[0] == args[1] and eq\n",
    "    \n",
    "def LGS(*args : List[str]) -> int:\n",
    "    arrLengths, strings = init(args)\n",
    "    arr, lengths = arrLengths\n",
    "    for L in lengths:\n",
    "        for idx in L:\n",
    "            if areStringsEqual([s[idx] for s in args]):\n",
    "                dp[idx][0][0] += 1\n",
    "                \n",
    "                \n",
    "    return lengths\n",
    "\n",
    "for first, second, third in [('1 2 3 4', '2 3', '3 4 5')]:\n",
    "    print(LGS(first, second, third))\n",
    "\n",
    "print(compareManyStringsEquality('1 2 3 4', '1 2 3 4 5', '1 2 3 4 5'))"
   ]
  },
  {
   "cell_type": "code",
   "execution_count": null,
   "metadata": {},
   "outputs": [],
   "source": []
  }
 ],
 "metadata": {
  "kernelspec": {
   "display_name": "Python 3",
   "language": "python",
   "name": "python3"
  },
  "language_info": {
   "codemirror_mode": {
    "name": "ipython",
    "version": 3
   },
   "file_extension": ".py",
   "mimetype": "text/x-python",
   "name": "python",
   "nbconvert_exporter": "python",
   "pygments_lexer": "ipython3",
   "version": "3.4.3"
  }
 },
 "nbformat": 4,
 "nbformat_minor": 2
}
