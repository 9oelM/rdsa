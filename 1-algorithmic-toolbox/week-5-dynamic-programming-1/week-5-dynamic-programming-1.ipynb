{
 "cells": [
  {
   "cell_type": "markdown",
   "metadata": {},
   "source": [
    "# Problems\n",
    "\n",
    "## 1. Money Change Again ([related: see leetcode](https://leetcode.com/problems/coin-change/))\n",
    "As we already know, a natural greedy strategy for the change problem does not work correctly for any set of denominations. For example, if the available denominations are 1, 3, and 4, the greedy algorithm will change 6 cents using three coins (4 + 1 + 1) while it can be changed using just two coins (3 + 3). Your goal now is to apply dynamic programming for solving the Money Change Problem for denominations 1, 3, and 4.\n",
    "\n",
    "- Input: `int money`\n",
    "- Output: The minimum number of coins with denominations 1, 3, 4 that changes money\n",
    "- Constraints: $1 ≤ money ≤ 10^{3}$"
   ]
  },
  {
   "cell_type": "code",
   "execution_count": 97,
   "metadata": {},
   "outputs": [
    {
     "name": "stdout",
     "output_type": "stream",
     "text": [
      "(3, [1], [0, 1, 2, 1, 1, 2, 2, 2, 2, 3])\n"
     ]
    }
   ],
   "source": [
    "\"\"\"\n",
    "This problem is equivalent to saying, 'find the minimum number of elements that can fill up to x'\n",
    "\"\"\"\n",
    "def moneyChange(money : int):\n",
    "    if money <= 2:\n",
    "        return money\n",
    "    elif money == 3:\n",
    "        return 1\n",
    "    \n",
    "    dp = [0] * money\n",
    "    dp[1] = 1\n",
    "    combinationsQueue = [1]\n",
    "    for i in range(2,money):\n",
    "        for num in [3,4]:\n",
    "            if i - num >= 0 and dp[i-num] + 1 < dp[i-1] + 1: \n",
    "            # if adding up from some previous calculation \n",
    "            # gives less number of money changes  \n",
    "                dp[i] = dp[i-num] + 1 # then add up from that previous calc\n",
    "                break # if you've done 3, don't go to 4 (you don't have to)\n",
    "            else:\n",
    "                dp[i] = dp[i-1] + 1 # add 1 as num\n",
    "    #    while len(combinationsQueue) >= dp[i]: # leave only corresponding num of elems\n",
    "    #        combinationsQueue.pop()\n",
    "     #   combinationsQueue.append(num)\n",
    "    return dp[-1], combinationsQueue, dp\n",
    "\n",
    "for elem in [10]:\n",
    "    print(moneyChange(elem))\n",
    "    "
   ]
  },
  {
   "cell_type": "markdown",
   "metadata": {},
   "source": []
  }
 ],
 "metadata": {
  "kernelspec": {
   "display_name": "Python 3",
   "language": "python",
   "name": "python3"
  },
  "language_info": {
   "codemirror_mode": {
    "name": "ipython",
    "version": 3
   },
   "file_extension": ".py",
   "mimetype": "text/x-python",
   "name": "python",
   "nbconvert_exporter": "python",
   "pygments_lexer": "ipython3",
   "version": "3.4.3"
  }
 },
 "nbformat": 4,
 "nbformat_minor": 2
}
