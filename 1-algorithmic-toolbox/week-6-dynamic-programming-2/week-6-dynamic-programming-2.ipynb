{
 "cells": [
  {
   "cell_type": "markdown",
   "metadata": {},
   "source": [
    "# Maximum amount of gold\n",
    "\n",
    "You are given a set of bars of gold and your goal is to take as much gold as possible into your bag. There is just one copy of each bar and for each bar you can either take it or not (hence you cannot take a fraction of a bar).\n",
    "\n",
    "Task. Given 𝑛 gold bars, find the maximum weight of gold that fits into a bag of capacity 𝑊.\n",
    "\n",
    "Constraints. $1 ≤ 𝑊 ≤ 10^{4}$; $1 ≤ 𝑛 ≤ 300$; $0 ≤ 𝑤_{0}, . . . , 𝑤_{𝑛−1} ≤ 10_{5}$\n",
    "\n",
    "Output. Output the maximum weight of gold that fits into a knapsack of capacity 𝑊."
   ]
  },
  {
   "cell_type": "code",
   "execution_count": 156,
   "metadata": {},
   "outputs": [
    {
     "name": "stdout",
     "output_type": "stream",
     "text": [
      "([[0, 0, 0, 0, 0, 0, 0, 0, 0, 0, 0], [0, 0, 0, 0, 4, 4, 4, 4, 4, 4, 4], [0, 1, 1, 1, 4, 5, 5, 5, 5, 5, 5], [0, 1, 1, 1, 4, 5, 5, 5, 8, 9, 9]], 9)\n",
      "([[0, 0, 0, 0, 0, 0, 0, 0, 0, 0, 0], [0, 0, 0, 0, 0, 0, 6, 6, 6, 6, 6], [0, 0, 0, 0, 0, 0, 6, 6, 8, 8, 8], [0, 0, 0, 0, 4, 4, 6, 6, 8, 8, 10], [0, 0, 2, 2, 4, 4, 6, 6, 8, 8, 10]], 10)\n",
      "([[0, 0, 0, 0], [0, 1, 1, 1], [0, 1, 2, 3], [0, 1, 2, 3], [0, 1, 2, 3], [0, 1, 2, 3]], 3)\n",
      "([[0, 0, 0, 0], [0, 0, 0, 0], [0, 0, 0, 0], [0, 0, 0, 0]], 0)\n",
      "([[0, 0, 0, 0, 0, 0, 0, 0, 0, 0, 0, 0, 0, 0, 0, 0, 0, 0, 0, 0, 0, 0, 0, 0, 0, 0, 0, 0, 0, 0, 0, 0, 0, 0, 0, 0, 0, 0, 0, 0, 0, 0, 0, 0, 0, 0, 0, 0, 0, 0, 0, 0, 0, 0, 0, 0, 0, 0, 0, 0, 0, 0, 0, 0, 0, 0, 0, 0, 0, 0, 0, 0, 0, 0, 0, 0, 0, 0, 0, 0, 0, 0, 0, 0, 0, 0, 0, 0, 0, 0, 0, 0, 0, 0, 0, 0, 0, 0, 0, 0, 0, 0, 0, 0, 0, 0, 0, 0, 0, 0, 0, 0, 0, 0, 0, 0, 0, 0, 0, 0, 0, 0, 0, 0, 0, 0, 0, 0, 0, 0, 0, 0, 0, 0, 0], [0, 0, 0, 0, 0, 0, 0, 0, 0, 0, 0, 0, 0, 0, 0, 0, 0, 0, 0, 0, 0, 0, 0, 0, 0, 0, 0, 0, 0, 0, 0, 0, 0, 33, 33, 33, 33, 33, 33, 33, 33, 33, 33, 33, 33, 33, 33, 33, 33, 33, 33, 33, 33, 33, 33, 33, 33, 33, 33, 33, 33, 33, 33, 33, 33, 33, 33, 33, 33, 33, 33, 33, 33, 33, 33, 33, 33, 33, 33, 33, 33, 33, 33, 33, 33, 33, 33, 33, 33, 33, 33, 33, 33, 33, 33, 33, 33, 33, 33, 33, 33, 33, 33, 33, 33, 33, 33, 33, 33, 33, 33, 33, 33, 33, 33, 33, 33, 33, 33, 33, 33, 33, 33, 33, 33, 33, 33, 33, 33, 33, 33, 33, 33, 33, 33], [0, 0, 0, 0, 0, 0, 0, 0, 0, 0, 0, 0, 0, 0, 0, 0, 0, 0, 0, 0, 0, 0, 22, 22, 22, 22, 22, 22, 22, 22, 22, 22, 22, 33, 33, 33, 33, 33, 33, 33, 33, 33, 33, 33, 33, 33, 33, 33, 33, 33, 33, 33, 33, 33, 33, 55, 55, 55, 55, 55, 55, 55, 55, 55, 55, 55, 55, 55, 55, 55, 55, 55, 55, 55, 55, 55, 55, 55, 55, 55, 55, 55, 55, 55, 55, 55, 55, 55, 55, 55, 55, 55, 55, 55, 55, 55, 55, 55, 55, 55, 55, 55, 55, 55, 55, 55, 55, 55, 55, 55, 55, 55, 55, 55, 55, 55, 55, 55, 55, 55, 55, 55, 55, 55, 55, 55, 55, 55, 55, 55, 55, 55, 55, 55, 55], [0, 0, 0, 3, 3, 3, 3, 3, 3, 3, 3, 3, 3, 3, 3, 3, 3, 3, 3, 3, 3, 3, 22, 22, 22, 25, 25, 25, 25, 25, 25, 25, 25, 33, 33, 33, 36, 36, 36, 36, 36, 36, 36, 36, 36, 36, 36, 36, 36, 36, 36, 36, 36, 36, 36, 55, 55, 55, 58, 58, 58, 58, 58, 58, 58, 58, 58, 58, 58, 58, 58, 58, 58, 58, 58, 58, 58, 58, 58, 58, 58, 58, 58, 58, 58, 58, 58, 58, 58, 58, 58, 58, 58, 58, 58, 58, 58, 58, 58, 58, 58, 58, 58, 58, 58, 58, 58, 58, 58, 58, 58, 58, 58, 58, 58, 58, 58, 58, 58, 58, 58, 58, 58, 58, 58, 58, 58, 58, 58, 58, 58, 58, 58, 58, 58], [0, 1, 1, 3, 4, 4, 4, 4, 4, 4, 4, 4, 4, 4, 4, 4, 4, 4, 4, 4, 4, 4, 22, 23, 23, 25, 26, 26, 26, 26, 26, 26, 26, 33, 34, 34, 36, 37, 37, 37, 37, 37, 37, 37, 37, 37, 37, 37, 37, 37, 37, 37, 37, 37, 37, 55, 56, 56, 58, 59, 59, 59, 59, 59, 59, 59, 59, 59, 59, 59, 59, 59, 59, 59, 59, 59, 59, 59, 59, 59, 59, 59, 59, 59, 59, 59, 59, 59, 59, 59, 59, 59, 59, 59, 59, 59, 59, 59, 59, 59, 59, 59, 59, 59, 59, 59, 59, 59, 59, 59, 59, 59, 59, 59, 59, 59, 59, 59, 59, 59, 59, 59, 59, 59, 59, 59, 59, 59, 59, 59, 59, 59, 59, 59, 59], [0, 1, 1, 3, 4, 4, 4, 4, 4, 4, 4, 4, 4, 4, 4, 4, 4, 4, 4, 4, 4, 4, 22, 23, 23, 25, 26, 26, 26, 26, 26, 26, 26, 33, 34, 34, 36, 37, 37, 37, 37, 37, 37, 37, 37, 37, 37, 37, 37, 37, 37, 37, 37, 37, 54, 55, 56, 57, 58, 59, 59, 59, 59, 59, 59, 59, 59, 59, 59, 59, 59, 59, 59, 59, 59, 59, 76, 77, 77, 79, 80, 80, 80, 80, 80, 80, 80, 87, 88, 88, 90, 91, 91, 91, 91, 91, 91, 91, 91, 91, 91, 91, 91, 91, 91, 91, 91, 91, 91, 109, 110, 110, 112, 113, 113, 113, 113, 113, 113, 113, 113, 113, 113, 113, 113, 113, 113, 113, 113, 113, 113, 113, 113, 113, 113], [0, 1, 1, 3, 4, 4, 6, 7, 7, 7, 7, 7, 7, 7, 7, 7, 7, 7, 7, 7, 7, 7, 22, 23, 23, 25, 26, 26, 28, 29, 29, 29, 29, 33, 34, 34, 36, 37, 37, 39, 40, 40, 40, 40, 40, 40, 40, 40, 40, 40, 40, 40, 40, 40, 54, 55, 56, 57, 58, 59, 60, 61, 62, 62, 62, 62, 62, 62, 62, 62, 62, 62, 62, 62, 62, 62, 76, 77, 77, 79, 80, 80, 82, 83, 83, 83, 83, 87, 88, 88, 90, 91, 91, 93, 94, 94, 94, 94, 94, 94, 94, 94, 94, 94, 94, 94, 94, 94, 94, 109, 110, 110, 112, 113, 113, 115, 116, 116, 116, 116, 116, 116, 116, 116, 116, 116, 116, 116, 116, 116, 116, 116, 116, 116, 116], [0, 1, 1, 3, 4, 4, 6, 7, 7, 7, 7, 11, 12, 12, 14, 15, 15, 17, 18, 18, 18, 18, 22, 23, 23, 25, 26, 26, 28, 29, 29, 29, 29, 33, 34, 34, 36, 37, 37, 39, 40, 40, 40, 40, 44, 45, 45, 47, 48, 48, 50, 51, 51, 51, 54, 55, 56, 57, 58, 59, 60, 61, 62, 62, 62, 65, 66, 67, 68, 69, 70, 71, 72, 73, 73, 73, 76, 77, 77, 79, 80, 80, 82, 83, 83, 83, 83, 87, 88, 88, 90, 91, 91, 93, 94, 94, 94, 94, 98, 99, 99, 101, 102, 102, 104, 105, 105, 105, 105, 109, 110, 110, 112, 113, 113, 115, 116, 116, 116, 116, 120, 121, 121, 123, 124, 124, 126, 127, 127, 127, 127, 127, 127, 127, 127], [0, 1, 1, 3, 4, 4, 6, 7, 7, 7, 7, 11, 12, 12, 14, 15, 15, 17, 18, 18, 18, 18, 22, 23, 23, 25, 26, 26, 28, 29, 29, 29, 29, 33, 34, 34, 36, 37, 37, 39, 40, 40, 40, 40, 44, 45, 45, 47, 48, 49, 50, 51, 52, 53, 54, 55, 56, 57, 58, 59, 60, 61, 62, 63, 64, 65, 66, 67, 68, 69, 70, 71, 72, 73, 74, 75, 76, 77, 78, 79, 80, 80, 82, 83, 83, 85, 86, 87, 88, 89, 90, 91, 91, 93, 94, 94, 96, 97, 98, 99, 100, 101, 102, 103, 104, 105, 106, 107, 108, 109, 110, 111, 112, 113, 114, 115, 116, 117, 118, 119, 120, 121, 122, 123, 124, 125, 126, 127, 128, 129, 129, 131, 132, 132, 132]], 132)\n"
     ]
    }
   ],
   "source": [
    "from typing import List\n",
    "\n",
    "def comp(n1, n2, prev, capacity) -> int:\n",
    "    cases = [n1+n2, max(n1, n2), min(n1, n2)]\n",
    "    best = filter(lambda case : case <= capacity, cases)\n",
    "    best = list(best)\n",
    "    best = best[0] if best else 0\n",
    "    return max(best, prev)\n",
    "\n",
    "def maxGold(capacity : int, weights : List[int]) -> int:\n",
    "    height = len(weights)+1\n",
    "    width = capacity+1\n",
    "    dp = [[0] * width]\n",
    "    for i in range(1,height):\n",
    "        arr = [0]\n",
    "        for k in range(1, width):\n",
    "            if k-weights[i-1] < len(dp[0]) and k-weights[i-1] >= 0: # prevent array index out of rage error \n",
    "                arr.append(comp(weights[i-1], dp[i-1][k-weights[i-1]], dp[i-1][k], k))\n",
    "            else:\n",
    "                arr.append(dp[i-1][k]) # if the condition does not satisfy, just get the number from previous row\n",
    "        dp.append(arr)\n",
    "    return dp, dp[-1][-1]\n",
    "\n",
    "testCases = [(10, [4,1,8]), (10, [6,8,4,2]), (3, [1,2,3,4,5]), (3, [10000, 99, 9]), (134, [33, 22, 3, 1, 54, 3, 11, 49])]\n",
    "\n",
    "for capacity, weights in testCases:\n",
    "    print(maxGold(capacity, weights))"
   ]
  },
  {
   "cell_type": "markdown",
   "metadata": {},
   "source": [
    "# Partitioning Souvenirs\n",
    "You and two of your friends have just returned back home after visiting various countries. Now you would like to evenly split all the souvenirs that all three of you bought.\n",
    "\n",
    "Input Format. The first line contains an integer 𝑛. The second line contains integers $𝑣_{1}, 𝑣_{2}, . . . , 𝑣_{𝑛}$ separated\n",
    "by spaces.\n",
    "\n",
    "Constraints. $1 ≤ 𝑛 ≤ 20$, $1 ≤ 𝑣_{𝑖} ≤ 30$ for all $i$\n",
    "\n",
    "Output. 1, if it possible to partition  $𝑣_{1}, 𝑣_{2}, . . . , 𝑣_{𝑛}$ into three subsets with equal sums, and\n",
    "0 otherwise.\n",
    "\n",
    "# References\n",
    "- http://yokolet.com/2017/05/23/k-partition-problem.html\n",
    "- "
   ]
  },
  {
   "cell_type": "code",
   "execution_count": 163,
   "metadata": {},
   "outputs": [
    {
     "data": {
      "text/plain": [
       "1"
      ]
     },
     "execution_count": 163,
     "metadata": {},
     "output_type": "execute_result"
    }
   ],
   "source": [
    "def PS():\n",
    "    total = sum([17, 59, 34, 57, 17, 23, 67, 1, 18, 2, 59\n",
    "])\n",
    "    return 1 if total %  3 == 0 else 0\n",
    "    \n",
    "PS()"
   ]
  },
  {
   "cell_type": "markdown",
   "metadata": {},
   "source": [
    "But if numbers get bigger beyond the constraints... and especially if you want to know exactly the elements consisting of the three partitions?"
   ]
  },
  {
   "cell_type": "code",
   "execution_count": 215,
   "metadata": {
    "scrolled": true
   },
   "outputs": [
    {
     "name": "stdout",
     "output_type": "stream",
     "text": [
      "118\n",
      "[[0, 1, 4, 5, 9], [0, 1, 5, 7, 8], [0, 2, 6], [0, 3, 5, 7, 8, 9], [1, 2, 5, 9], [1, 3, 9], [1, 4, 5, 7, 8], [2, 4, 6], [3, 4, 5, 7, 8, 9]]\n"
     ]
    }
   ],
   "source": [
    "from typing import List\n",
    "\n",
    "def dfs(nums : List[int], target : int, index : int, inclIndices : str):\n",
    "    if target < 0 or index == len(nums):\n",
    "        return \"\"\n",
    "    elif target == 0:\n",
    "        return \"{} |\".format(inclIndices)\n",
    "    return dfs(nums, target-nums[index], index+1, \"{} {}\".format(inclIndices, index)) + dfs(nums, target, index+1, inclIndices)\n",
    "\n",
    "def resultDfs(nums, quotient, result, used=[]):\n",
    "    if used\n",
    "    resultDfs(nums, quotient, result, used += result) resultDfs(nums, quotient, result[])\n",
    " #   return resultDfs(nums, )\n",
    "\n",
    "def partition(nums : List[int], k) -> List[List[int]]:\n",
    "    quotient, rem = divmod(sum(nums), k)\n",
    "    print(quotient)\n",
    "    if rem != 0:\n",
    "        return [[]]\n",
    "    \n",
    "    result = dfs(nums, quotient, 0, \"\").split('|')\n",
    "    if result[0] == '':\n",
    "        return [[]]\n",
    "    else:\n",
    "        result = list(filter(lambda arr : arr != '', result)) \n",
    "        return resultDfs(nums, quotient, [list(map(int, arr.strip().split(' '))) for arr in result])\n",
    "    \n",
    "partition([17, 59, 34, 57, 17, 23, 67, 1, 18, 2, 59], 3)"
   ]
  },
  {
   "cell_type": "markdown",
   "metadata": {},
   "source": [
    "I succeeded in finding all combinations of indices that would produce the number `quotient`, but I have not yet found a way to get exactly non-overlapping $k$ combinations that would answer the question."
   ]
  }
 ],
 "metadata": {
  "kernelspec": {
   "display_name": "Python 3",
   "language": "python",
   "name": "python3"
  },
  "language_info": {
   "codemirror_mode": {
    "name": "ipython",
    "version": 3
   },
   "file_extension": ".py",
   "mimetype": "text/x-python",
   "name": "python",
   "nbconvert_exporter": "python",
   "pygments_lexer": "ipython3",
   "version": "3.4.3"
  }
 },
 "nbformat": 4,
 "nbformat_minor": 2
}
