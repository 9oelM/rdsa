{
 "cells": [
  {
   "cell_type": "markdown",
   "metadata": {},
   "source": [
    "# Data structures\n",
    "- A **data structure**, as implied by the name, is a particular structured way of storing data in a computer so that it can be used efficiently.\n",
    "- For data structure, both **time** complexity and **space** complexity matter.\n",
    "\n",
    "## Computational problems\n",
    "- Algorithms are simply solutions to computational problems. **A single computational problem can have numerous algorithms as solutions.**\n",
    "- For example, for an algorithm to get the largest element in a given array of `int`s, there are hundreds of ways to implement it. \n",
    "- There needs to be a way to describe the computational problem itself.\n",
    "\n",
    "## Classes of computational problems: P, NP, NP-Hard, and NP-Complete\n",
    "\n",
    "### P\n",
    "**Polynomial**. Any computational problem that can be solved in polynomial time (or better, of course) is considered a member of P.\n",
    "\n",
    "### NP\n",
    "**Nondeterministic Polynomilal time**. \n",
    "- Computational problems that can be verified in polynomial time **(whether or not you can solve them in polynomial time)**\n",
    "-  Do not necessarily need to be able to compute a correct answer in polynomial time\n",
    "- NOT necessary for there to exist a polynomial-time algorithm that solves the problem optimally\n",
    "- Therefore, **P is a subset of NP**, but [it has not yet been proven that P = NP](https://en.wikipedia.org/wiki/Millennium_Prize_Problems#P_versus_NP). => Not all problems in NP can be solved in polynomial time.\n",
    "- Then what's like a problem that's **not a member of P but NP only?**\n",
    "\n",
    "### NP-hard\n",
    "**Nondeterministic Polynomial-time hard**.\n",
    "- A problem can be considered NP-Hard **if it is at least as hard as the hardest problems in NP**.\n",
    "- A problem H is NP-Hard when every problem L in NP can be \"reduced,\" or transformed, to problem H in polynomial time. \n",
    "- Example of an NP-hard problem: [subsset sum problem](https://en.wikipedia.org/wiki/Subset_sum_problem)\n",
    "\n",
    "### NP-complete\n",
    "**Intersection between NP and NP-hard**.\n",
    "- an NP-Hard problem is considered NP-Complete if it can be verified in polynomial time (i.e., it is also in NP).\n",
    "- example problem: [Boolean satisfiability problem](https://en.wikipedia.org/wiki/Boolean_satisfiability_problem)\n",
    "\n",
    "## Diagrams to help understand the classes\n",
    "![classes of computational problems](https://ucarecdn.com/12483788-925a-493c-a227-751ea01f54d2/)\n",
    "\n",
    "Left: if P ≠ NP \n",
    "\n",
    "Right: if P = NP (all problems that can be verified in polynomial time can also be solved in polynomial time)\n",
    "\n",
    "### Questions to help\n",
    "This one is really hard if you don't look into the diagram. Which ones are right?:\n",
    "\n",
    "- [ ] All problems in NP-Complete are also in NP-Hard\n",
    "- [ ] All problems in NP-Complete are also in NP\n",
    "- [ ] All problems in NP are also in NP-Complete\n",
    "- [ ] All problems in P are also in NP\n",
    "- [ ] P = NP\n",
    "- [ ] All problems in NP-Hard are also in NP-Complete\n",
    "- [ ] P ≠ NP\n",
    "- [ ] All problems in NP are also in P\n",
    "\n",
    "## Impllications\n",
    "Knowing the class of a given computational problem, you may expect / save the length of the time you will work on it, or even give up on it because it's simply impossible to finish it in a polynomial time."
   ]
  },
  {
   "cell_type": "code",
   "execution_count": null,
   "metadata": {},
   "outputs": [],
   "source": []
  }
 ],
 "metadata": {
  "kernelspec": {
   "display_name": "Python 3",
   "language": "python",
   "name": "python3"
  },
  "language_info": {
   "codemirror_mode": {
    "name": "ipython",
    "version": 3
   },
   "file_extension": ".py",
   "mimetype": "text/x-python",
   "name": "python",
   "nbconvert_exporter": "python",
   "pygments_lexer": "ipython3",
   "version": "3.4.3"
  }
 },
 "nbformat": 4,
 "nbformat_minor": 2
}
