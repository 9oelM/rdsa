{
 "cells": [
  {
   "cell_type": "markdown",
   "metadata": {},
   "source": [
    "# Fundamentals of C++\n",
    "Course slides start from https://stepik.org/lesson/26055/step/1?unit=8087\n",
    "\n",
    "## Code Challenge: Basic syntax refresher \n",
    "Given an integer n, return the sum of the integers from 1 to n (inclusive).\n",
    "```c++\n",
    "int addNums(int n){\n",
    "    int sum = 0;\n",
    "    for(int i = 1; i <= n; i++){\n",
    "        sum += i;\n",
    "    }\n",
    "    return sum;\n",
    "}\n",
    "```\n",
    "\n",
    "## Data types in c++ vs java\n",
    "- $1 byte = 8 bits$\n",
    "- `int`: 4-byte ints (in C++, num of bytes may be different depending on machines, but this is negligible in modern ones)\n",
    "```c++\n",
    "int  a; // this variable can range from -2^31 to +2^31 - 1 (first bit: sign bit)\n",
    "long b; // this variable can range from -2⁶³ to +2⁶³ - 1\n",
    "char c; // this variable can range from -2⁷  to +2⁷  - 1\n",
    "```\n",
    "- `unsigned`: discards the sign bit, therefore doubling the represented size.\n",
    "- `bool`: you know it already. Speaking of why `bool` is not a size of 1 bit but 1 byte, it's because the minimum addressable size in a computer is 1 byte in most cases. For more, check out https://stackoverflow.com/questions/4626815/why-is-a-boolean-1-byte-and-not-1-bit-of-size.\n",
    "- `string`: c++ strings are modifiable, but java's aren't.\n",
    "- Comparing: `==` to compare objects in c++. `.equals` for java.\n",
    "\n",
    "## Variables in c++ vs java\n",
    "\n",
    "|-| C++ | Java |\n",
    "|-|-|-|\n",
    "| Variable safety 1 (Use variable after declaration but initialization) | No error (use garbage data) | Error |\n",
    "| Variable safety 2 (implicit type casting to a smaller datatype) | No error  | Error |\n",
    "| Global variables | Can be declared anywhere (but don't) | Declared inside a class / method |\n",
    "| Constant variables | use `const`. Prevents data from being changed in any ways. No reassignment. No modification even if data were mutable.  | use `final` keyword to declare one. Prevents variable from being reassigned. If mutable data can still be changed.  |\n",
    "\n",
    "## Classes in c++ vs java\n",
    "\n",
    "### C++\n",
    "```c++\n",
    "class Student { // C++\n",
    "    public:\n",
    "        static int numStudents;                  // declare static variable\n",
    "\n",
    "        Student(string n);                       // declare constructor\n",
    "\n",
    "        void setName(string n);                  // declare setter method\n",
    "        string getName() const;                  // declare getter method\n",
    "\n",
    "    private:\n",
    "        string name;                             // declare instance variable\n",
    "};\n",
    "\n",
    "int Student::numStudents = 0                     // define static variable\n",
    "\n",
    "Student::Student(string n) { /* CODE */ }        // define constructor\n",
    "\n",
    "void Student::setName(string n) { /* CODE */ }   // define setter method\n",
    "string Student::getName() const { /* CODE */ }   // define getter method\n",
    "```\n",
    "\n",
    "### Java\n",
    "```java\n",
    "class Student { // Java\n",
    "    public static int numStudents = 0;           // declare and define static variable\n",
    "    private String name;                         // declare instance variable\n",
    "\n",
    "    public Student(String n) { /* CODE */ }      // declare and define constructor\n",
    "\n",
    "    public void setName(String n) { /* CODE */ } // declare and define setter method\n",
    "    public String getName() { /* CODE */ }       // declare and define getter method\n",
    "}\n",
    "```\n",
    "\n",
    "| - | C++ | java |\n",
    "|-----------------------------------|----------------------------------------------------------------------------------|--------------------------------------------------|\n",
    "| access modifiers | has `public` and `private` sections | each item must be declared `public` or `private` |\n",
    "| implementation | actual implementations are listed outside the class like `className::methodName` | implementation entirely inside the class |\n",
    "| accessor | tagged with keyword const, modifying instance variables prevented | - |\n",
    "| semicolon after class declaration | yes | no |\n",
    "\n",
    "### More C++\n",
    "- Split code between `.cpp` (source) and `h` (header)\n",
    "\n",
    "`Student.h`\n",
    "```c++\n",
    "class Student {\n",
    "    public:\n",
    "        static int numStudents;        // declare static variable\n",
    "        Student(string n);             // declare constructor\n",
    "\n",
    "    private:\n",
    "        string name;                   // declare instance variable\n",
    "};\n",
    "```\n",
    "\n",
    "`Student.cpp`\n",
    "```c++\n",
    "int Student::numStudents = 0;          // define static variable\n",
    "\n",
    "Student::Student(string n) : name(n) { // define constructor using member initializer list for an instance variable\n",
    "    numStudents++;\n",
    "}\n",
    "```\n",
    "\n",
    "### Member initializer list\n",
    "```c++\n",
    "class Something\n",
    "{\n",
    "private:\n",
    "    int m_value1;\n",
    "    double m_value2;\n",
    "    char m_value3;\n",
    " \n",
    "public:\n",
    "    Something()\n",
    "    {\n",
    "        // These are all assignments, not initializations\n",
    "        m_value1 = 1;\n",
    "        m_value2 = 2.2;\n",
    "        m_value3 = 'c';\n",
    "    }\n",
    "};\n",
    "```\n",
    "This is valid, but deemed to be not a good practice. \n",
    "\n",
    "Also notice another problem initializing a `const` variable:\n",
    "\n",
    "```c++\n",
    "class Something\n",
    "{\n",
    "private:\n",
    "    const int m_value;\n",
    " \n",
    "public:\n",
    "    Something()\n",
    "    {\n",
    "        m_value = 1; // error: const vars can not be assigned to\n",
    "    } \n",
    "};\n",
    "```\n",
    "\n",
    "You cannot assign a value to a const variable in your constructor, which is clearly a problem. \n",
    "\n",
    "There are 3 ways to initialize a variable in C++:\n",
    "```c++\n",
    "int value1 = 1; // copy initialization\n",
    "double value2(2.2); // direct initialization\n",
    "char value3 {'c'}; // uniform initialization\n",
    "```\n",
    "\n",
    "Now you can convert your code with a better constructor:\n",
    "\n",
    "```c++\n",
    "class Something\n",
    "{\n",
    "private:\n",
    "    int m_value1;\n",
    "    double m_value2;\n",
    "    char m_value3;\n",
    " \n",
    "public:\n",
    "    Something() : m_value1(1), m_value2(2.2), m_value3('c') // directly initialize our member variables\n",
    "    {\n",
    "    // No need for assignment here\n",
    "    }\n",
    "};\n",
    " \n",
    "int main()\n",
    "{\n",
    "    Something something();\n",
    "    return 0;\n",
    "}\n",
    "```\n",
    "\n",
    "And even better constructor:\n",
    "\n",
    "```c++\n",
    "Something(int value1, double value2, char value3='c')\n",
    "        : m_value1(value1), m_value2(value2), m_value3(value3) // directly initialize our member variables\n",
    "    {\n",
    "    // No need for assignment here\n",
    "    }\n",
    "```\n",
    "\n",
    "And use it as\n",
    "```c++\n",
    "Something something(1, 2.2);\n",
    "```\n",
    "\n",
    "- For more, see https://www.learncpp.com/cpp-tutorial/8-5a-constructor-member-initializer-lists/"
   ]
  },
  {
   "cell_type": "markdown",
   "metadata": {},
   "source": [
    "## References, pointers, and memory "
   ]
  },
  {
   "cell_type": "code",
   "execution_count": 1,
   "metadata": {},
   "outputs": [],
   "source": [
    "#include <string>\n",
    "#include <iostream>\n",
    "\n",
    "using namespace std;\n",
    "\n",
    "class Student{\n",
    "    private:\n",
    "        string name;\n",
    "    public:\n",
    "        Student(string n) : name(n){\n",
    "            cout << n;\n",
    "        }\n",
    "        string getName() const{\n",
    "            return name;\n",
    "        };    \n",
    "}"
   ]
  },
  {
   "cell_type": "markdown",
   "metadata": {},
   "source": [
    "#### Java\n",
    "- Objects: object variables store references\n",
    "- Primitives: primitive variables store values directly\n",
    "- Assignment: done by value (objects: ref copied, primitives: value copied)\n",
    "\n",
    "#### C++\n",
    "- Objects & primitives: store values, NOT object ref. \n",
    "- Assignment: done by value. Entire copy of an object is made. This includes passing parameters to a function."
   ]
  },
  {
   "cell_type": "code",
   "execution_count": 2,
   "metadata": {},
   "outputs": [
    {
     "name": "stdout",
     "output_type": "stream",
     "text": [
      "Florence"
     ]
    }
   ],
   "source": [
    "Student flo(\"Florence\"); // Creates Student object with name \"Florence\" and stores as variable 'flo'\n",
    "                         // Note that we do NOT use the keyword 'new' to create the object.  \n",
    "Student flo2 = flo;      // flo2 stores a copy of the Student, with the same name"
   ]
  },
  {
   "cell_type": "markdown",
   "metadata": {},
   "source": [
    "![explained with image](https://ucarecdn.com/89e35b9b-f766-4e35-a33d-44c12c95fb0e/)"
   ]
  },
  {
   "cell_type": "markdown",
   "metadata": {},
   "source": [
    "### What if you want to avoid copying the value in C++\n",
    "2 ways:\n",
    "1. References\n",
    "2. Pointers\n",
    "\n",
    "#### References \n",
    "- C++ references are NOT the same as Java references. \n",
    "- References in C++ are simply aliases for existing variables: The variable is treated exactly as another name as the variable you set it to. (Modify the ref variable, then see the original variable changes as well)\n",
    "- Syntax:\n",
    "```\n",
    "& after the type name in the variable declaration. If T is some type, then T& is the syntax to declare a reference to a T variable. \n",
    "```"
   ]
  },
  {
   "cell_type": "code",
   "execution_count": 3,
   "metadata": {},
   "outputs": [
    {
     "name": "stdout",
     "output_type": "stream",
     "text": [
      "LloydHarry"
     ]
    }
   ],
   "source": [
    "Student lloyd(\"Lloyd\"); // creates Student object with name \"Lloyd\" and stores as variable 'lloyd'\n",
    "Student & reference = lloyd;  // creates reference to 'lloyd' called 'ref'\n",
    "Student harry(\"Harry\"); // creates Student object with name \"Harry\" and stores as variable 'harry'"
   ]
  },
  {
   "cell_type": "markdown",
   "metadata": {},
   "source": [
    "![explained with image 2](https://ucarecdn.com/2aae199b-631e-4380-b322-4b5193e2ed38/)"
   ]
  },
  {
   "cell_type": "code",
   "execution_count": 4,
   "metadata": {},
   "outputs": [
    {
     "name": "stdout",
     "output_type": "stream",
     "text": [
      "Harry"
     ]
    },
    {
     "data": {
      "text/plain": [
       "@0x7f083c8b6b60"
      ]
     },
     "execution_count": 4,
     "metadata": {},
     "output_type": "execute_result"
    }
   ],
   "source": [
    "reference = harry;             // 'ref' is now a copy of 'harry', so 'lloyd' is ALSO now a copy of 'harry'\n",
    "// remember, assignment happens by copying value. \n",
    "\n",
    "cout << lloyd.getName(); // this would print \"Harry\""
   ]
  },
  {
   "cell_type": "markdown",
   "metadata": {},
   "source": [
    "![explained with image](https://ucarecdn.com/95b9a826-21cc-4a3b-a459-f24355bb839a/)"
   ]
  },
  {
   "cell_type": "markdown",
   "metadata": {},
   "source": [
    "**2 main uses for C++ references:** \n",
    "1. parameter passing \n",
    "2. aliasing long variable names."
   ]
  },
  {
   "cell_type": "markdown",
   "metadata": {},
   "source": [
    "it's useful **not to make copies of objects when they are passed to functions**, either because you want the function to be able to modify the data in the object, or because you want to avoid wasting time and space with the copy. "
   ]
  },
  {
   "cell_type": "markdown",
   "metadata": {},
   "source": [
    "#### Pointers in C++\n",
    "- Quite similar to references in Java.\n",
    "- They are variables that store the memory address of some data, as opposed to storing the data directly. \n",
    "- That is, **their value is a memory address.**\n",
    "```\n",
    "If T is some type, then T* is the syntax to declare a pointer to a T variable.\n",
    "```\n",
    "- A pointer variable can be initialized with:\n",
    "    - `NULL` \n",
    "    - the value of another pointer variable,\n",
    "    - the memory address of another variable,\n",
    "    - or a call to new (which will be discussed shortly).\n",
    "    \n",
    "- The **memory address of a variable** can be attained by placing the **&** symbol before the variable name.\n",
    "- To **access the object to which a pointer points to**, you must \"dereference\" the pointer by placing the **\\* symbol** before the variable name. \n",
    "- To access an instance variable of the object to which a pointer points, you can either: \n",
    "    - dereference the pointer and access the instance variable using the `.` symbol as normal\n",
    "    - use the `->` operator on the pointer directly (which is the more conventional way)."
   ]
  },
  {
   "cell_type": "code",
   "execution_count": 5,
   "metadata": {},
   "outputs": [
    {
     "name": "stdout",
     "output_type": "stream",
     "text": [
      "joeltomjoeltom"
     ]
    },
    {
     "data": {
      "text/plain": [
       "@0x7f083c8b6b60"
      ]
     },
     "execution_count": 5,
     "metadata": {},
     "output_type": "execute_result"
    }
   ],
   "source": [
    "Student joel(\"joel\");                // initialize Student object\n",
    "Student* tom = new Student(\"tom\"); // initialize Student pointer\n",
    "Student* ptr1 = &joel;                // initialize ptr1 to store the address of 'joel'\n",
    "Student* ptr2 = tom;                 // initialize Student pointer pointing to same object as 'tom'\n",
    "cout << (*ptr1).getName();             // prints \"joel\" (deference)\n",
    "cout << ptr2->getName();               // prints \"tom\" "
   ]
  },
  {
   "cell_type": "markdown",
   "metadata": {},
   "source": [
    "![Explained with an image](https://ucarecdn.com/9968c470-3056-4d6d-bd33-f921db046806/)\n",
    "Note: \n",
    "- joel = lloyd\n",
    "- tom = harry"
   ]
  },
  {
   "cell_type": "markdown",
   "metadata": {},
   "source": [
    "- `harry` does not have a direct label. Instead it is accessed via pointer stored in `harry` or `ptr2`.\n",
    "- harry, ptr1, and ptr2 all store memory addresses.  \n",
    "**PITFALL**\n",
    "- we can either say that a pointer points to an object, or we can say that a pointer stores the address of an object.\n",
    "- why is this important?: you could have **a pointer to pointer**, and this is different from the above notion. You should be careful about what you say. "
   ]
  },
  {
   "cell_type": "code",
   "execution_count": 6,
   "metadata": {},
   "outputs": [
    {
     "name": "stdout",
     "output_type": "stream",
     "text": [
      "student"
     ]
    }
   ],
   "source": [
    "Student student(\"student\");   // initialize Student object\n",
    "Student* dumb = &student;   // initialize Student pointer to store address of 'lloyd'\n",
    "Student** dumber = &dumb; // initialize Student pointer pointer to store address of 'dumb'\n"
   ]
  },
  {
   "cell_type": "markdown",
   "metadata": {},
   "source": [
    "Storing memory addresses of primitive data is also possible:"
   ]
  },
  {
   "cell_type": "code",
   "execution_count": 7,
   "metadata": {},
   "outputs": [],
   "source": [
    "int a = 5;   // a is an int-type variable\n",
    "int* b = &a; // b is a pointer to an int that stores the address of a"
   ]
  },
  {
   "cell_type": "code",
   "execution_count": 8,
   "metadata": {},
   "outputs": [
    {
     "name": "stdout",
     "output_type": "stream",
     "text": [
      "42"
     ]
    },
    {
     "data": {
      "text/plain": [
       "@0x7f083c8b6b60"
      ]
     },
     "execution_count": 8,
     "metadata": {},
     "output_type": "execute_result"
    }
   ],
   "source": [
    "*b = 42;   // This will change the value that's stored in a's box!\n",
    "cout << a; // This will print 42"
   ]
  },
  {
   "cell_type": "markdown",
   "metadata": {},
   "source": [
    "## Memory management"
   ]
  },
  {
   "cell_type": "markdown",
   "metadata": {},
   "source": [
    "Java\n",
    "- It does gc for you\n",
    "- You allocate new memory for objects using the new keyword, and that memory is allocated on the heap and automatically reclaimed when the object is no longer reachable (you might have heard this being refereed to as Java having a \"garbage collector\"). \n",
    "\n",
    "C++\n",
    "- it's not simple.\n",
    "- Memory can be allocated in 2 ways:\n",
    "    1. automatic: occurs whenever data is created unless you specify otherwise. **the memory will also be reclaimed automatically when the variables go out of scope. Variables are usually created on the stack.**\n",
    "    2. dynamic: done at run time and this memory will persist until you explicitly delete it. **allocate the memory on the heap and not to delete that memory allocation until the programmer explicitly requests it, _even if all of the variables that point to that memory location go out of scope!_** So you must **delete** the allocated memory, otherwise causing a memory leak."
   ]
  },
  {
   "cell_type": "code",
   "execution_count": 9,
   "metadata": {},
   "outputs": [
    {
     "name": "stdout",
     "output_type": "stream",
     "text": [
      "mike"
     ]
    }
   ],
   "source": [
    "// Automatic\n",
    "int i = 5;              // Creates space for an int at compile time, on the stack\n",
    "Student mike(\"mike\"); // Creates space for a Student object at compile time, on the stack"
   ]
  },
  {
   "cell_type": "code",
   "execution_count": 10,
   "metadata": {},
   "outputs": [
    {
     "name": "stdout",
     "output_type": "stream",
     "text": [
      "someone"
     ]
    }
   ],
   "source": [
    "// Dynamic\n",
    "int* q = new int(5);                   // Create a new int on the heap\n",
    "Student* someone = new Student(\"someone\"); // Create a new Student object on the heap."
   ]
  },
  {
   "cell_type": "code",
   "execution_count": 11,
   "metadata": {},
   "outputs": [],
   "source": [
    "// Delete dynamic allocated memories\n",
    "delete q;\n",
    "delete someone;"
   ]
  },
  {
   "cell_type": "markdown",
   "metadata": {},
   "source": [
    "By default, delete will free all the memory directly associated with the data stored in the variable. \n",
    "However, **if the object points to other dynamically created data, the default behavior will not delete this nested data and you will again have a memory leak**, as in the example below:"
   ]
  },
  {
   "cell_type": "code",
   "execution_count": 12,
   "metadata": {},
   "outputs": [],
   "source": [
    "#include <string>\n",
    "class Student2 { // C++\n",
    "    public:\n",
    "        Student2(string n) { \n",
    "            name = new string(n);         // name is allocated dynamically (just for illustration, not a good idea)\n",
    "        };\n",
    "        void setName(string n);\n",
    "        string getName() const;\n",
    "\n",
    "    private:\n",
    "        string* name;             // name is now a pointer\n",
    "};\n"
   ]
  },
  {
   "cell_type": "code",
   "execution_count": 13,
   "metadata": {},
   "outputs": [],
   "source": [
    "int doNothing(string aName) {\n",
    "    Student2* s = new Student2(\"Sammy\"); // Dynamically allocate Sammy\n",
    "    // Some code here\n",
    "    delete s;                          // Delete memory allocated to sammy\n",
    "                                       // Because Student does not have a destructor defined,\n",
    "                                       // this will NOT delete the Student's name field!\n",
    "    return 1;\n",
    "}"
   ]
  },
  {
   "cell_type": "markdown",
   "metadata": {},
   "source": [
    "Fortunately, when you **call delete on an object, C++ will invoke the object's destructor**. If it is a class you defined, **you must supply a destructor for the object if the object itself has any dynamically created data.** "
   ]
  },
  {
   "cell_type": "code",
   "execution_count": 14,
   "metadata": {},
   "outputs": [],
   "source": [
    "class Student3 { // C++\n",
    "    public:\n",
    "        Student3(string n){ \n",
    "            name = new string(n);   // name is allocated dynamically (just for illustration, not a good idea)\n",
    "        };  \n",
    "        ~Student3(){\n",
    "            delete name;\n",
    "        };               // Declare the destructor\n",
    "        void setName(string n);\n",
    "        string getName() const;\n",
    "\n",
    "    private:\n",
    "        string* name;             // name is now a pointer\n",
    "};"
   ]
  },
  {
   "cell_type": "code",
   "execution_count": 15,
   "metadata": {},
   "outputs": [],
   "source": [
    "void doNothing2(string aName) {\n",
    "    Student3* s = new Student3(\"Sammy\"); // Dynamically allocate s\n",
    "    // Some code here\n",
    "    delete s;                          // Delete memory allocated to s\n",
    "                                       // This will call the destructor for Student\n",
    "}"
   ]
  },
  {
   "cell_type": "markdown",
   "metadata": {},
   "source": [
    "One final note about the code above is that there was **NO NEED to create either the Student object or the name within the Student object dynamically**. We just did this for illustration. Dynamic allocation is useful **when you need your objects to have life beyond the scope in which they are initially declared** such as in linked data structures like Linked Lists and Trees."
   ]
  },
  {
   "cell_type": "markdown",
   "metadata": {},
   "source": [
    "What would be output by the execution of the following lines of code?  Hint: Draw the memory diagrams.\n",
    "```c++\n",
    "Student a(\"Lloyd\");\n",
    "Student & b = a;\n",
    "Student * c = new Student(\"Harry\");\n",
    "b = *c;\n",
    "Student d = a;\n",
    "cout << d.getName();\n",
    "```"
   ]
  },
  {
   "cell_type": "code",
   "execution_count": 16,
   "metadata": {},
   "outputs": [
    {
     "name": "stdout",
     "output_type": "stream",
     "text": [
      "LloydHarryHarry"
     ]
    }
   ],
   "source": [
    "// Answer: harry!\n",
    "void quiz(){\n",
    "    Student a(\"Lloyd\");\n",
    "    Student & b = a;\n",
    "    Student * c = new Student(\"Harry\");\n",
    "    b = *c;\n",
    "    Student d = a;\n",
    "    cout << d.getName();\n",
    "}\n",
    "quiz();"
   ]
  },
  {
   "cell_type": "markdown",
   "metadata": {},
   "source": [
    "### `const` keyword\n",
    "#### Variable declaration\n",
    "Can never be modified after initialization"
   ]
  },
  {
   "cell_type": "code",
   "execution_count": 17,
   "metadata": {},
   "outputs": [],
   "source": [
    "{\n",
    "    const int a = 5; // 'a' cannot be modified after this: it will always have a value of 5\n",
    "    int const b = 6; // 'b' cannot be modified after this: it will always have a value of 6\n",
    "}"
   ]
  },
  {
   "cell_type": "markdown",
   "metadata": {},
   "source": [
    "#### Pointers"
   ]
  },
  {
   "cell_type": "code",
   "execution_count": 18,
   "metadata": {},
   "outputs": [
    {
     "name": "stderr",
     "output_type": "stream",
     "text": [
      "\u001b[1minput_line_31:9:7: \u001b[0m\u001b[0;1;31merror: \u001b[0m\u001b[1mread-only variable is not assignable\u001b[0m\n",
      "*ptr1 = 7;                   // NOT valid, because I CAN'T modify the d...\n",
      "\u001b[0;1;32m~~~~~ ^\n",
      "\u001b[0m\u001b[1minput_line_31:11:6: \u001b[0m\u001b[0;1;31merror: \u001b[0m\u001b[1mcannot assign to variable 'ptr3' with const-qualified type 'int *const'\u001b[0m\n",
      "ptr3 = &b;                   // NOT valid, because I CAN'T change what ...\n",
      "\u001b[0;1;32m~~~~ ^\n",
      "\u001b[0m\u001b[1minput_line_31:6:13: \u001b[0m\u001b[0;1;30mnote: \u001b[0mvariable 'ptr3' declared const here\u001b[0m\n",
      "int * const ptr3 = &a;       // can modify the data pointed to, but can...\n",
      "\u001b[0;1;32m~~~~~~~~~~~~^~~~~~~~~\n",
      "\u001b[0m\u001b[1minput_line_31:12:6: \u001b[0m\u001b[0;1;31merror: \u001b[0m\u001b[1mcannot assign to variable 'ptr4' with const-qualified type 'const int *const'\u001b[0m\n",
      "ptr4 = &b;                   // NOT valid, because I CAN'T change what ...\n",
      "\u001b[0;1;32m~~~~ ^\n",
      "\u001b[0m\u001b[1minput_line_31:7:19: \u001b[0m\u001b[0;1;30mnote: \u001b[0mvariable 'ptr4' declared const here\u001b[0m\n",
      "const int * const ptr4 = &a; // can't change what ptr4 points to AND ca...\n",
      "\u001b[0;1;32m~~~~~~~~~~~~~~~~~~^~~~~~~~~\n",
      "\u001b[0m\u001b[1minput_line_31:13:7: \u001b[0m\u001b[0;1;31merror: \u001b[0m\u001b[1mread-only variable is not assignable\u001b[0m\n",
      "*ptr4 = 7;                   // NOT valid, because I can't modify the t...\n",
      "\u001b[0;1;32m~~~~~ ^\n",
      "\u001b[0m\u001b[1minput_line_31:2:6: \u001b[0m\u001b[0;1;31merror: \u001b[0m\u001b[1mredefinition of 'a'\u001b[0m\n",
      " int a = 5;                   // create a regular int\n",
      "\u001b[0;1;32m     ^\n",
      "\u001b[0m\u001b[1minput_line_18:2:6: \u001b[0m\u001b[0;1;30mnote: \u001b[0mprevious definition is here\u001b[0m\n",
      " int a = 5;   // a is an int-type variable\n",
      "\u001b[0;1;32m     ^\n",
      "\u001b[0m"
     ]
    },
    {
     "ename": "Interpreter Error",
     "evalue": "",
     "output_type": "error",
     "traceback": [
      "Interpreter Error: "
     ]
    }
   ],
   "source": [
    "int a = 5;                   // create a regular int\n",
    "int b = 6;                   // create a regular int\n",
    "const int * ptr1 = &a;       // can change what ptr1 points to, but can't modify the actual data pointed to\n",
    "int const * ptr2 = &a;       // equivalent to ptr1\n",
    "int * const ptr3 = &a;       // can modify the data pointed to, but can't change what ptr3 points to\n",
    "const int * const ptr4 = &a; // can't change what ptr4 points to AND can't modify the actual object itself\n",
    "\n",
    "ptr1 = &b;                   // valid, because I CAN change what ptr1 points to\n",
    "*ptr1 = 7;                   // NOT valid, because I CAN'T modify the data pointed to\n",
    "\n",
    "*ptr3 = 7;                   // valid, because I CAN modify the data pointed to\n",
    "ptr3 = &b;                   // NOT valid, because I CAN'T change what ptr3 points to\n",
    "\n",
    "ptr4 = &b;                   // NOT valid, because I CAN'T change what ptr4 points to\n",
    "*ptr4 = 7;                   // NOT valid, because I can't modify the the data pointed to"
   ]
  },
  {
   "cell_type": "markdown",
   "metadata": {},
   "source": [
    "#### References"
   ]
  },
  {
   "cell_type": "code",
   "execution_count": null,
   "metadata": {},
   "outputs": [],
   "source": [
    "int a = 5;            // create a regular int\n",
    "const int b = 6;      // create a const int\n",
    "\n",
    "const int & ref1 = a; // creates a const reference to 'a' (can't modify the value of a using ref1)\n",
    "                      // This is OK.  Even though a is allowed to change, it's OK to have a reference that\n",
    "                      // does not allow you to change it because nothing unexpected will happen.\n",
    "int const & ref2 = a; // equivalent to ref1\n",
    "\n",
    "ref1 = 7;             // NOT valid, because ref1 can't modify the data\n",
    "\n",
    "const int & ref3 = b; // valid, because you can have const reference to const data\n",
    "int & ref4 = b;       // NOT valid, because you CAN'T have a non-const reference to const data\n",
    "                      // ref4 might change the data but b says it shouldn't be changed, which is unexpected\n",
    "\n",
    "int & const ref5 = a; // invalid syntax (const must come before the & symbol)"
   ]
  },
  {
   "cell_type": "markdown",
   "metadata": {},
   "source": [
    "## Functions\n",
    "Java:\n",
    "- every function must either be an instance method or a static function of a class. \n",
    "\n",
    "C++:\n",
    "- supports both of these cases, but it also supports functions that are not part of any class, called \"global functions.\":\n",
    "```c++\n",
    "int main() {\n",
    "    // CODE\n",
    "}\n",
    "```"
   ]
  },
  {
   "cell_type": "markdown",
   "metadata": {},
   "source": [
    "## Function parameters\n",
    "Java:\n",
    "- call by value\n",
    "\n",
    "C++:\n",
    "- call by value (receives a copy of actual argument, disabling modification of the original)\n",
    "- call by reference (can modify)"
   ]
  },
  {
   "cell_type": "code",
   "execution_count": 19,
   "metadata": {},
   "outputs": [
    {
     "name": "stderr",
     "output_type": "stream",
     "text": [
      "\u001b[1minput_line_32:8:2: \u001b[0m\u001b[0;1;31merror: \u001b[0m\u001b[1mno matching function for call to 'swap2'\u001b[0m\n",
      " swap2(1, 2);\n",
      "\u001b[0;1;32m ^~~~~\n",
      "\u001b[0m\u001b[1minput_line_32:2:6: \u001b[0m\u001b[0;1;30mnote: \u001b[0mcandidate function not viable: expects an l-value for 1st argument\u001b[0m\n",
      "void swap2(int & a, int & b) {\n",
      "\u001b[0;1;32m     ^\n",
      "\u001b[0m"
     ]
    },
    {
     "ename": "Interpreter Error",
     "evalue": "",
     "output_type": "error",
     "traceback": [
      "Interpreter Error: "
     ]
    }
   ],
   "source": [
    "// Successfully swaps the values of the argument variables\n",
    "void swap2(int & a, int & b) {\n",
    "    int temp = a;\n",
    "    a = b;\n",
    "    b = temp;\n",
    "};\n",
    "\n",
    "swap2(1, 2);"
   ]
  },
  {
   "cell_type": "markdown",
   "metadata": {},
   "source": [
    "Get by reference, but do not modify:"
   ]
  },
  {
   "cell_type": "code",
   "execution_count": null,
   "metadata": {},
   "outputs": [],
   "source": [
    "double gcContent(const string & genome) {\n",
    "    // CODE that does not modify genome\n",
    "}"
   ]
  }
 ],
 "metadata": {
  "kernelspec": {
   "display_name": "C++17",
   "language": "C++17",
   "name": "xcpp17"
  },
  "language_info": {
   "codemirror_mode": "text/x-c++src",
   "file_extension": ".cpp",
   "mimetype": "text/x-c++src",
   "name": "c++",
   "version": "-std=c++17"
  }
 },
 "nbformat": 4,
 "nbformat_minor": 2
}
